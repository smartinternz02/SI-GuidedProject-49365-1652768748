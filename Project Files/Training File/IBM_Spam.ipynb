{
  "cells": [
    {
      "cell_type": "code",
      "execution_count": null,
      "metadata": {
        "id": "14M1LG9dNugK",
        "outputId": "b07945be-4d20-44e5-874e-300d93d29e6f"
      },
      "outputs": [
        {
          "name": "stdout",
          "output_type": "stream",
          "text": [
            "Requirement already satisfied: ibm_watson_machine_learning in c:\\users\\shubh\\anaconda3\\lib\\site-packages (1.0.166)\n",
            "Requirement already satisfied: lomond in c:\\users\\shubh\\anaconda3\\lib\\site-packages (from ibm_watson_machine_learning) (0.3.3)\n",
            "Requirement already satisfied: certifi in c:\\users\\shubh\\anaconda3\\lib\\site-packages (from ibm_watson_machine_learning) (2020.11.8)\n",
            "Requirement already satisfied: urllib3 in c:\\users\\shubh\\anaconda3\\lib\\site-packages (from ibm_watson_machine_learning) (1.26.2)\n",
            "Requirement already satisfied: packaging in c:\\users\\shubh\\anaconda3\\lib\\site-packages (from ibm_watson_machine_learning) (20.4)\n",
            "Requirement already satisfied: ibm-cos-sdk==2.7.* in c:\\users\\shubh\\anaconda3\\lib\\site-packages (from ibm_watson_machine_learning) (2.7.0)\n",
            "Requirement already satisfied: tabulate in c:\\users\\shubh\\anaconda3\\lib\\site-packages (from ibm_watson_machine_learning) (0.8.9)\n",
            "Requirement already satisfied: requests in c:\\users\\shubh\\anaconda3\\lib\\site-packages (from ibm_watson_machine_learning) (2.25.0)\n",
            "Requirement already satisfied: pandas<1.3.0,>=0.24.2 in c:\\users\\shubh\\anaconda3\\lib\\site-packages (from ibm_watson_machine_learning) (1.0.5)\n",
            "Requirement already satisfied: six>=1.10.0 in c:\\users\\shubh\\anaconda3\\lib\\site-packages (from lomond->ibm_watson_machine_learning) (1.15.0)\n",
            "Requirement already satisfied: pyparsing>=2.0.2 in c:\\users\\shubh\\anaconda3\\lib\\site-packages (from packaging->ibm_watson_machine_learning) (2.4.7)\n",
            "Requirement already satisfied: ibm-cos-sdk-s3transfer==2.7.0 in c:\\users\\shubh\\anaconda3\\lib\\site-packages (from ibm-cos-sdk==2.7.*->ibm_watson_machine_learning) (2.7.0)\n",
            "Requirement already satisfied: jmespath<1.0.0,>=0.7.1 in c:\\users\\shubh\\anaconda3\\lib\\site-packages (from ibm-cos-sdk==2.7.*->ibm_watson_machine_learning) (0.10.0)\n",
            "Requirement already satisfied: ibm-cos-sdk-core==2.7.0 in c:\\users\\shubh\\anaconda3\\lib\\site-packages (from ibm-cos-sdk==2.7.*->ibm_watson_machine_learning) (2.7.0)\n",
            "Requirement already satisfied: chardet<4,>=3.0.2 in c:\\users\\shubh\\anaconda3\\lib\\site-packages (from requests->ibm_watson_machine_learning) (3.0.4)\n",
            "Requirement already satisfied: idna<3,>=2.5 in c:\\users\\shubh\\anaconda3\\lib\\site-packages (from requests->ibm_watson_machine_learning) (2.10)\n",
            "Requirement already satisfied: python-dateutil>=2.6.1 in c:\\users\\shubh\\anaconda3\\lib\\site-packages (from pandas<1.3.0,>=0.24.2->ibm_watson_machine_learning) (2.8.1)\n",
            "Requirement already satisfied: numpy>=1.13.3 in c:\\users\\shubh\\anaconda3\\lib\\site-packages (from pandas<1.3.0,>=0.24.2->ibm_watson_machine_learning) (1.18.5)\n",
            "Requirement already satisfied: pytz>=2017.2 in c:\\users\\shubh\\anaconda3\\lib\\site-packages (from pandas<1.3.0,>=0.24.2->ibm_watson_machine_learning) (2020.1)\n",
            "Requirement already satisfied: docutils<0.16,>=0.10 in c:\\users\\shubh\\anaconda3\\lib\\site-packages (from ibm-cos-sdk-core==2.7.0->ibm-cos-sdk==2.7.*->ibm_watson_machine_learning) (0.15.2)\n",
            "Note: you may need to restart the kernel to use updated packages.\n"
          ]
        }
      ],
      "source": [
        "pip install ibm_watson_machine_learning"
      ],
      "id": "14M1LG9dNugK"
    },
    {
      "cell_type": "code",
      "execution_count": null,
      "metadata": {
        "id": "YOOACB9YNugQ"
      },
      "outputs": [],
      "source": [
        "from ibm_watson_machine_learning import APIClient"
      ],
      "id": "YOOACB9YNugQ"
    },
    {
      "cell_type": "code",
      "execution_count": null,
      "metadata": {
        "id": "LNBOwewPNugR"
      },
      "outputs": [],
      "source": [
        "wml_credentials = {\n",
        "    \"apikey\":\"jHmqhPkx75nDgJ8JxevI89h6ol_-kv2ZbhLWHFwGGKPS\",\n",
        "    \"url\" : \"https://us-south.ml.cloud.ibm.com\"\n",
        "}"
      ],
      "id": "LNBOwewPNugR"
    },
    {
      "cell_type": "code",
      "execution_count": null,
      "metadata": {
        "id": "Up75mKWCNugS",
        "outputId": "a84ef8af-7074-419c-abc3-9154a213040a"
      },
      "outputs": [
        {
          "name": "stdout",
          "output_type": "stream",
          "text": [
            "Note: 'limit' is not provided. Only first 50 records will be displayed if the number of records exceed 50\n",
            "------------------------------------  --------------  ------------------------\n",
            "ID                                    NAME            CREATED\n",
            "5dd26f3a-4af0-44bb-afe7-e3480e26e4ee  sms_spam_space  2022-03-07T13:09:58.680Z\n",
            "------------------------------------  --------------  ------------------------\n"
          ]
        }
      ],
      "source": [
        "#checking for available space list\n",
        "\n",
        "wml_client = APIClient(wml_credentials)\n",
        "wml_client.spaces.list()"
      ],
      "id": "Up75mKWCNugS"
    },
    {
      "cell_type": "code",
      "execution_count": null,
      "metadata": {
        "id": "40Sn5TQJNugT"
      },
      "outputs": [],
      "source": [
        "def guide_from_space_name(client,space_name):\n",
        "    space = client.spaces.get_details()\n",
        "    return(next(item for item in space['resources']if item['entity'][\"name\"]== space_name)['metadata']['id'])"
      ],
      "id": "40Sn5TQJNugT"
    },
    {
      "cell_type": "code",
      "execution_count": null,
      "metadata": {
        "id": "OrA6CuzXNugT"
      },
      "outputs": [],
      "source": [
        "space_id=\"5dd26f3a-4af0-44bb-afe7-e3480e26e4ee\""
      ],
      "id": "OrA6CuzXNugT"
    },
    {
      "cell_type": "code",
      "execution_count": null,
      "metadata": {
        "id": "ukC6VgifNugU",
        "outputId": "b702a884-d5da-4e7b-9531-1ad134e770cd"
      },
      "outputs": [
        {
          "data": {
            "text/plain": [
              "'SUCCESS'"
            ]
          },
          "execution_count": 20,
          "metadata": {},
          "output_type": "execute_result"
        }
      ],
      "source": [
        "wml_client.set.default_space(space_id)"
      ],
      "id": "ukC6VgifNugU"
    },
    {
      "cell_type": "code",
      "execution_count": null,
      "metadata": {
        "id": "C8GjDZAENugW",
        "outputId": "4e7292c1-c7c1-4fe9-e1bb-2b0f487156dc"
      },
      "outputs": [
        {
          "data": {
            "text/plain": [
              "'ab9e1b80-f2ce-592c-a7d2-4f2344f77194'"
            ]
          },
          "execution_count": 21,
          "metadata": {},
          "output_type": "execute_result"
        }
      ],
      "source": [
        "# setting python version\n",
        "\n",
        "software_spec_uid = wml_client.software_specifications.get_id_by_name(\"default_py3.8\")\n",
        "software_spec_uid\n"
      ],
      "id": "C8GjDZAENugW"
    },
    {
      "cell_type": "code",
      "execution_count": null,
      "metadata": {
        "id": "nEkqbhgINugX",
        "outputId": "3a906f44-8a72-4637-a88e-3d4b44c1dbf8"
      },
      "outputs": [
        {
          "name": "stdout",
          "output_type": "stream",
          "text": [
            "Successfully saved model content to file: 'Ibm_model.tar.gz'\n"
          ]
        },
        {
          "data": {
            "text/plain": [
              "'D:\\\\Commet-Toxicity-Multi-Class-Classification-main/Ibm_model.tar.gz'"
            ]
          },
          "execution_count": 24,
          "metadata": {},
          "output_type": "execute_result"
        }
      ],
      "source": [
        "wml_client.repository.download(\"9f11aa50-fb02-4e2d-acd8-eadcf31852dc\",\"Ibm_model.tar.gz\")"
      ],
      "id": "nEkqbhgINugX"
    },
    {
      "cell_type": "code",
      "execution_count": null,
      "metadata": {
        "id": "jhVWYo7zNugY",
        "outputId": "cd6189de-dac7-4c9c-945d-d32cd835ac16"
      },
      "outputs": [
        {
          "name": "stdout",
          "output_type": "stream",
          "text": [
            "Successfully saved model content to file: 'Ibm_model1.tar.gz'\n"
          ]
        },
        {
          "data": {
            "text/plain": [
              "'D:\\\\Commet-Toxicity-Multi-Class-Classification-main/Ibm_model1.tar.gz'"
            ]
          },
          "execution_count": 25,
          "metadata": {},
          "output_type": "execute_result"
        }
      ],
      "source": [
        "wml_client.repository.download(\"ffd687fb-02bc-472e-b520-a1d2e53d8ffe\",\"Ibm_model1.tar.gz\")"
      ],
      "id": "jhVWYo7zNugY"
    },
    {
      "cell_type": "code",
      "execution_count": null,
      "metadata": {
        "id": "IDGQcRpwNugZ"
      },
      "outputs": [],
      "source": [
        ""
      ],
      "id": "IDGQcRpwNugZ"
    }
  ],
  "metadata": {
    "kernelspec": {
      "display_name": "Python 3",
      "language": "python",
      "name": "python3"
    },
    "language_info": {
      "codemirror_mode": {
        "name": "ipython",
        "version": 3
      },
      "file_extension": ".py",
      "mimetype": "text/x-python",
      "name": "python",
      "nbconvert_exporter": "python",
      "pygments_lexer": "ipython3",
      "version": "3.7.3"
    },
    "colab": {
      "name": "IBM-Spam.ipynb",
      "provenance": []
    }
  },
  "nbformat": 4,
  "nbformat_minor": 5
}